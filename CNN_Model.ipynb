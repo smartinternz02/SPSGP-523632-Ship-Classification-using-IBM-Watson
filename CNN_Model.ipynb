{
 "cells": [
  {
   "attachments": {},
   "cell_type": "markdown",
   "metadata": {},
   "source": [
    "# Ship Classification"
   ]
  },
  {
   "attachments": {},
   "cell_type": "markdown",
   "metadata": {},
   "source": [
    "## CNN"
   ]
  },
  {
   "cell_type": "code",
   "execution_count": 1,
   "metadata": {
    "ExecuteTime": {
     "end_time": "2023-06-25T19:10:43.585292200Z",
     "start_time": "2023-06-25T19:10:39.231800200Z"
    }
   },
   "outputs": [],
   "source": [
    "\n",
    "from keras.preprocessing.image import ImageDataGenerator"
   ]
  },
  {
   "cell_type": "code",
   "execution_count": 2,
   "metadata": {
    "ExecuteTime": {
     "end_time": "2023-06-25T19:10:43.594353700Z",
     "start_time": "2023-06-25T19:10:43.591361500Z"
    }
   },
   "outputs": [],
   "source": [
    "train_gen = ImageDataGenerator(rescale=(1./255),rotation_range=90,width_shift_range=0.2,fill_mode='nearest',zoom_range=0.2,\n",
    "    height_shift_range=0.2,featurewise_center=True,horizontal_flip=True,vertical_flip=True,shear_range=0.2,featurewise_std_normalization=True)\n",
    "test_gen = ImageDataGenerator(rescale=(1./255))"
   ]
  },
  {
   "cell_type": "code",
   "execution_count": 3,
   "metadata": {
    "ExecuteTime": {
     "end_time": "2023-06-25T19:10:43.743452700Z",
     "start_time": "2023-06-25T19:10:43.592355100Z"
    }
   },
   "outputs": [
    {
     "name": "stdout",
     "output_type": "stream",
     "text": [
      "Found 4005 images belonging to 5 classes.\n",
      "Found 30 images belonging to 5 classes.\n"
     ]
    }
   ],
   "source": [
    "train = train_gen.flow_from_directory(r'C:\\Users\\cyril\\OneDrive\\Desktop\\AI-SmartBridge\\Dataset\\ship classification dataset\\ship classification dataset\\train',\n",
    "                                      target_size=(224,224),\n",
    "                                      class_mode='categorical',\n",
    "                                      batch_size=8)\n",
    "test = test_gen.flow_from_directory(r'C:\\Users\\cyril\\OneDrive\\Desktop\\AI-SmartBridge\\Dataset\\ship classification dataset\\ship classification dataset\\test',\n",
    "                                    target_size=(224,224),\n",
    "                                    class_mode='categorical',\n",
    "                                    batch_size=8)"
   ]
  },
  {
   "cell_type": "code",
   "execution_count": 4,
   "metadata": {
    "ExecuteTime": {
     "end_time": "2023-06-25T19:10:43.768458300Z",
     "start_time": "2023-06-25T19:10:43.741628500Z"
    }
   },
   "outputs": [],
   "source": [
    "from keras.layers import Conv2D, MaxPooling2D, Flatten,Dense\n",
    "from keras.models import Sequential\n",
    "from keras.layers import BatchNormalization, Dropout"
   ]
  },
  {
   "cell_type": "code",
   "execution_count": 5,
   "metadata": {
    "ExecuteTime": {
     "end_time": "2023-06-25T19:10:44.157706800Z",
     "start_time": "2023-06-25T19:10:43.750464800Z"
    }
   },
   "outputs": [],
   "source": [
    "model = Sequential()\n",
    "\n",
    "model.add(Conv2D(300,(3,3),activation='relu',input_shape=(224,224,3)))\n",
    "model.add(BatchNormalization())\n",
    "model.add(MaxPooling2D(pool_size=(2,2)))\n",
    "model.add(Dropout(0.2))\n",
    "\n",
    "model.add(Conv2D(350,(3,3),activation='relu'))\n",
    "model.add(BatchNormalization())\n",
    "model.add(MaxPooling2D(pool_size=(2,2)))\n",
    "model.add(Dropout(0.2))\n",
    "\n",
    "model.add(Conv2D(300,(3,3),activation='relu'))\n",
    "model.add(BatchNormalization())\n",
    "model.add(MaxPooling2D(pool_size=(2,2)))\n",
    "model.add(Dropout(0.2))\n",
    "\n",
    "model.add(Conv2D(280,(3,3),activation='relu'))\n",
    "model.add(BatchNormalization())\n",
    "model.add(MaxPooling2D(pool_size=(2,2)))\n",
    "model.add(Dropout(0.2))\n",
    "model.add(Flatten())\n",
    "\n",
    "\n",
    "model.add(Dense(345,activation='relu'))\n",
    "model.add(BatchNormalization())\n",
    "model.add(Dense(250,activation='relu'))\n",
    "model.add(BatchNormalization())\n",
    "model.add(Dense(350,activation='relu'))\n",
    "model.add(BatchNormalization())\n",
    "model.add(Dense(200,activation='relu'))\n",
    "model.add(Dense(5,activation='softmax'))"
   ]
  },
  {
   "cell_type": "code",
   "execution_count": 6,
   "metadata": {
    "ExecuteTime": {
     "end_time": "2023-06-25T19:10:44.184653200Z",
     "start_time": "2023-06-25T19:10:44.150709800Z"
    }
   },
   "outputs": [],
   "source": [
    "model.compile(optimizer='adam',loss='categorical_crossentropy',metrics=['accuracy'])"
   ]
  },
  {
   "cell_type": "code",
   "execution_count": 7,
   "metadata": {
    "ExecuteTime": {
     "end_time": "2023-06-25T19:10:44.184653200Z",
     "start_time": "2023-06-25T19:10:44.177647200Z"
    }
   },
   "outputs": [],
   "source": [
    "from keras.callbacks import EarlyStopping\n",
    "early_stop = EarlyStopping(monitor='accuracy',patience=5)"
   ]
  },
  {
   "cell_type": "code",
   "execution_count": 8,
   "metadata": {},
   "outputs": [
    {
     "name": "stderr",
     "output_type": "stream",
     "text": [
      "C:\\Users\\cyril\\AppData\\Roaming\\Python\\Python311\\site-packages\\keras\\preprocessing\\image.py:1861: UserWarning: This ImageDataGenerator specifies `featurewise_center`, but it hasn't been fit on any training data. Fit it first by calling `.fit(numpy_data)`.\n",
      "  warnings.warn(\n",
      "C:\\Users\\cyril\\AppData\\Roaming\\Python\\Python311\\site-packages\\keras\\preprocessing\\image.py:1871: UserWarning: This ImageDataGenerator specifies `featurewise_std_normalization`, but it hasn't been fit on any training data. Fit it first by calling `.fit(numpy_data)`.\n",
      "  warnings.warn(\n"
     ]
    },
    {
     "name": "stdout",
     "output_type": "stream",
     "text": [
      "Epoch 1/10\n",
      "10/10 [==============================] - 51s 5s/step - loss: 2.0073 - accuracy: 0.1875 - val_loss: 2.7275 - val_accuracy: 0.1667\n",
      "Epoch 2/10\n",
      "10/10 [==============================] - 45s 4s/step - loss: 2.1380 - accuracy: 0.2250 - val_loss: 3.9122 - val_accuracy: 0.1667\n",
      "Epoch 3/10\n",
      "10/10 [==============================] - 44s 4s/step - loss: 1.9797 - accuracy: 0.2000 - val_loss: 3.3384 - val_accuracy: 0.1333\n",
      "Epoch 4/10\n",
      "10/10 [==============================] - 45s 5s/step - loss: 1.9906 - accuracy: 0.1875 - val_loss: 3.0123 - val_accuracy: 0.2000\n",
      "Epoch 5/10\n",
      "10/10 [==============================] - 44s 4s/step - loss: 1.8934 - accuracy: 0.2750 - val_loss: 2.4256 - val_accuracy: 0.2667\n",
      "Epoch 6/10\n",
      "10/10 [==============================] - 45s 4s/step - loss: 2.0113 - accuracy: 0.2750 - val_loss: 1.9299 - val_accuracy: 0.1667\n",
      "Epoch 7/10\n",
      "10/10 [==============================] - 43s 4s/step - loss: 1.9848 - accuracy: 0.2375 - val_loss: 2.3847 - val_accuracy: 0.1000\n",
      "Epoch 8/10\n",
      "10/10 [==============================] - 42s 4s/step - loss: 1.8422 - accuracy: 0.2000 - val_loss: 2.8605 - val_accuracy: 0.2000\n",
      "Epoch 9/10\n",
      "10/10 [==============================] - 43s 4s/step - loss: 1.8660 - accuracy: 0.2500 - val_loss: 2.1712 - val_accuracy: 0.1667\n",
      "Epoch 10/10\n",
      "10/10 [==============================] - 44s 4s/step - loss: 1.6432 - accuracy: 0.3500 - val_loss: 3.2388 - val_accuracy: 0.2000\n"
     ]
    },
    {
     "data": {
      "text/plain": [
       "<keras.callbacks.History at 0x20c96815510>"
      ]
     },
     "execution_count": 8,
     "metadata": {},
     "output_type": "execute_result"
    }
   ],
   "source": [
    "model.fit(train,batch_size=8,validation_data=test,epochs=10,callbacks=early_stop,steps_per_epoch=10)"
   ]
  },
  {
   "cell_type": "code",
   "execution_count": 9,
   "metadata": {},
   "outputs": [
    {
     "name": "stdout",
     "output_type": "stream",
     "text": [
      "501/501 [==============================] - 399s 796ms/step - loss: 3.3247 - accuracy: 0.1273\n"
     ]
    },
    {
     "data": {
      "text/plain": [
       "[3.3246848583221436, 0.12734082341194153]"
      ]
     },
     "execution_count": 9,
     "metadata": {},
     "output_type": "execute_result"
    }
   ],
   "source": [
    "model.evaluate(train)"
   ]
  },
  {
   "cell_type": "code",
   "execution_count": 10,
   "metadata": {},
   "outputs": [
    {
     "name": "stdout",
     "output_type": "stream",
     "text": [
      "4/4 [==============================] - 3s 758ms/step - loss: 3.2388 - accuracy: 0.2000\n"
     ]
    },
    {
     "data": {
      "text/plain": [
       "[3.2388222217559814, 0.20000000298023224]"
      ]
     },
     "execution_count": 10,
     "metadata": {},
     "output_type": "execute_result"
    }
   ],
   "source": [
    "model.evaluate(test)\n"
   ]
  },
  {
   "cell_type": "code",
   "execution_count": 11,
   "metadata": {},
   "outputs": [],
   "source": [
    "model.save('model.h5')"
   ]
  },
  {
   "cell_type": "code",
   "execution_count": null,
   "metadata": {},
   "outputs": [],
   "source": []
  },
  {
   "cell_type": "code",
   "execution_count": null,
   "metadata": {},
   "outputs": [],
   "source": []
  },
  {
   "attachments": {},
   "cell_type": "markdown",
   "metadata": {},
   "source": [
    "## Using Transfer Learning"
   ]
  },
  {
   "cell_type": "code",
   "execution_count": 8,
   "metadata": {
    "ExecuteTime": {
     "end_time": "2023-06-25T19:10:53.672239300Z",
     "start_time": "2023-06-25T19:10:53.639987100Z"
    }
   },
   "outputs": [],
   "source": [
    "from keras.applications import VGG16"
   ]
  },
  {
   "cell_type": "code",
   "execution_count": 9,
   "metadata": {
    "ExecuteTime": {
     "end_time": "2023-06-25T19:10:55.098505800Z",
     "start_time": "2023-06-25T19:10:54.438868900Z"
    }
   },
   "outputs": [],
   "source": [
    "# Load the VGG16 model pre-trained on ImageNet\n",
    "conv_base = VGG16(weights='imagenet', include_top=False, input_shape=(224, 224, 3))"
   ]
  },
  {
   "cell_type": "code",
   "execution_count": 10,
   "metadata": {
    "ExecuteTime": {
     "end_time": "2023-06-25T19:10:55.410694500Z",
     "start_time": "2023-06-25T19:10:55.405723400Z"
    }
   },
   "outputs": [],
   "source": [
    "# Train model with existing weights\n",
    "\n",
    "for layer in conv_base.layers:\n",
    "  layer.trainable=False"
   ]
  },
  {
   "cell_type": "code",
   "execution_count": 11,
   "metadata": {
    "ExecuteTime": {
     "end_time": "2023-06-25T19:10:57.440530400Z",
     "start_time": "2023-06-25T19:10:57.425485700Z"
    }
   },
   "outputs": [],
   "source": [
    "# Create an ImageDataGenerator for data augmentation\n",
    "train_datagen = ImageDataGenerator(\n",
    "    rescale=(1./255),\n",
    "    rotation_range=90,\n",
    "    width_shift_range=0.2,\n",
    "    fill_mode='nearest',\n",
    "    zoom_range=0.2,\n",
    "    height_shift_range=0.2,\n",
    "    featurewise_center=True,\n",
    "    horizontal_flip=True,\n",
    "    vertical_flip=True,\n",
    "    shear_range=0.2,\n",
    "    featurewise_std_normalization=True)\n",
    "\n",
    "test_datagen = ImageDataGenerator(\n",
    "    rescale=1./255)"
   ]
  },
  {
   "cell_type": "code",
   "execution_count": 12,
   "metadata": {
    "ExecuteTime": {
     "end_time": "2023-06-25T19:10:58.792847400Z",
     "start_time": "2023-06-25T19:10:58.627215Z"
    }
   },
   "outputs": [
    {
     "name": "stdout",
     "output_type": "stream",
     "text": [
      "Found 4005 images belonging to 5 classes.\n",
      "Found 30 images belonging to 5 classes.\n"
     ]
    }
   ],
   "source": [
    "# Create a generator for the training data\n",
    "train_generator = train_datagen.flow_from_directory(\n",
    "    r'C:\\Users\\cyril\\OneDrive\\Desktop\\AI-SmartBridge\\Dataset\\ship classification dataset\\ship classification dataset\\train',\n",
    "    target_size=(224, 224),\n",
    "    batch_size=8,\n",
    "    class_mode='categorical')\n",
    "\n",
    "test_generator = test_datagen.flow_from_directory(\n",
    "    r'C:\\Users\\cyril\\OneDrive\\Desktop\\AI-SmartBridge\\Dataset\\ship classification dataset\\ship classification dataset\\test',\n",
    "    target_size=(224, 224),\n",
    "    batch_size=8,\n",
    "    class_mode='categorical')"
   ]
  },
  {
   "cell_type": "code",
   "execution_count": 13,
   "metadata": {
    "ExecuteTime": {
     "end_time": "2023-06-25T19:11:00.329472400Z",
     "start_time": "2023-06-25T19:11:00.224514100Z"
    }
   },
   "outputs": [],
   "source": [
    "# Define the new model\n",
    "model = Sequential()\n",
    "\n",
    "model.add(conv_base)\n",
    "model.add(Flatten())\n",
    "model.add(Dense(200,activation='relu'))\n",
    "model.add(Dense(5,activation='softmax'))"
   ]
  },
  {
   "cell_type": "markdown",
   "metadata": {
    "collapsed": false
   },
   "source": []
  },
  {
   "cell_type": "code",
   "execution_count": 14,
   "metadata": {
    "ExecuteTime": {
     "end_time": "2023-06-25T19:11:01.968621200Z",
     "start_time": "2023-06-25T19:11:01.951435200Z"
    }
   },
   "outputs": [],
   "source": [
    "model.compile(loss='categorical_crossentropy', optimizer='adam', metrics=['accuracy'])"
   ]
  },
  {
   "cell_type": "code",
   "execution_count": 15,
   "metadata": {
    "ExecuteTime": {
     "end_time": "2023-06-26T02:09:04.525332900Z",
     "start_time": "2023-06-25T19:11:09.358833300Z"
    }
   },
   "outputs": [
    {
     "name": "stderr",
     "output_type": "stream",
     "text": [
      "C:\\Users\\cyril\\AppData\\Roaming\\Python\\Python311\\site-packages\\keras\\preprocessing\\image.py:1861: UserWarning: This ImageDataGenerator specifies `featurewise_center`, but it hasn't been fit on any training data. Fit it first by calling `.fit(numpy_data)`.\n",
      "  warnings.warn(\n",
      "C:\\Users\\cyril\\AppData\\Roaming\\Python\\Python311\\site-packages\\keras\\preprocessing\\image.py:1871: UserWarning: This ImageDataGenerator specifies `featurewise_std_normalization`, but it hasn't been fit on any training data. Fit it first by calling `.fit(numpy_data)`.\n",
      "  warnings.warn(\n"
     ]
    },
    {
     "name": "stdout",
     "output_type": "stream",
     "text": [
      "Epoch 1/200\n",
      "200/200 [==============================] - 147s 728ms/step - loss: 1.7550 - accuracy: 0.3776 - val_loss: 1.0080 - val_accuracy: 0.7000\n",
      "Epoch 2/200\n",
      "200/200 [==============================] - 140s 697ms/step - loss: 1.1792 - accuracy: 0.5169 - val_loss: 0.9305 - val_accuracy: 0.7000\n",
      "Epoch 3/200\n",
      "200/200 [==============================] - 141s 707ms/step - loss: 1.0535 - accuracy: 0.5638 - val_loss: 0.8360 - val_accuracy: 0.7667\n",
      "Epoch 4/200\n",
      "200/200 [==============================] - 142s 710ms/step - loss: 1.0733 - accuracy: 0.5394 - val_loss: 1.1144 - val_accuracy: 0.5667\n",
      "Epoch 5/200\n",
      "200/200 [==============================] - 141s 705ms/step - loss: 1.0276 - accuracy: 0.5667 - val_loss: 0.8594 - val_accuracy: 0.8000\n",
      "Epoch 6/200\n",
      "200/200 [==============================] - 142s 708ms/step - loss: 0.9671 - accuracy: 0.5950 - val_loss: 0.7247 - val_accuracy: 0.8000\n",
      "Epoch 7/200\n",
      "200/200 [==============================] - 142s 711ms/step - loss: 0.9054 - accuracy: 0.6194 - val_loss: 0.5565 - val_accuracy: 0.7667\n",
      "Epoch 8/200\n",
      "200/200 [==============================] - 141s 707ms/step - loss: 0.9161 - accuracy: 0.6025 - val_loss: 0.9818 - val_accuracy: 0.6333\n",
      "Epoch 9/200\n",
      "200/200 [==============================] - 141s 704ms/step - loss: 0.8394 - accuracy: 0.6538 - val_loss: 1.0515 - val_accuracy: 0.6667\n",
      "Epoch 10/200\n",
      "200/200 [==============================] - 140s 701ms/step - loss: 0.8474 - accuracy: 0.6462 - val_loss: 0.9380 - val_accuracy: 0.6667\n",
      "Epoch 11/200\n",
      "200/200 [==============================] - 140s 701ms/step - loss: 0.8176 - accuracy: 0.6537 - val_loss: 0.8618 - val_accuracy: 0.7000\n",
      "Epoch 12/200\n",
      "200/200 [==============================] - 143s 716ms/step - loss: 0.8352 - accuracy: 0.6787 - val_loss: 0.8180 - val_accuracy: 0.7000\n",
      "Epoch 13/200\n",
      "200/200 [==============================] - 140s 700ms/step - loss: 0.8310 - accuracy: 0.6594 - val_loss: 1.2363 - val_accuracy: 0.6333\n",
      "Epoch 14/200\n",
      "200/200 [==============================] - 139s 693ms/step - loss: 0.8524 - accuracy: 0.6625 - val_loss: 0.8396 - val_accuracy: 0.7667\n",
      "Epoch 15/200\n",
      "200/200 [==============================] - 139s 692ms/step - loss: 0.8017 - accuracy: 0.6706 - val_loss: 0.6319 - val_accuracy: 0.8000\n",
      "Epoch 16/200\n",
      "200/200 [==============================] - 139s 697ms/step - loss: 0.7598 - accuracy: 0.7032 - val_loss: 0.8574 - val_accuracy: 0.6667\n",
      "Epoch 17/200\n",
      "200/200 [==============================] - 138s 688ms/step - loss: 0.8137 - accuracy: 0.6687 - val_loss: 0.9239 - val_accuracy: 0.7333\n",
      "Epoch 18/200\n",
      "200/200 [==============================] - 137s 684ms/step - loss: 0.7881 - accuracy: 0.6787 - val_loss: 0.7175 - val_accuracy: 0.8000\n",
      "Epoch 19/200\n",
      "200/200 [==============================] - 137s 686ms/step - loss: 0.7708 - accuracy: 0.6913 - val_loss: 0.7548 - val_accuracy: 0.7333\n",
      "Epoch 20/200\n",
      "200/200 [==============================] - 137s 687ms/step - loss: 0.7541 - accuracy: 0.7044 - val_loss: 0.9875 - val_accuracy: 0.8000\n",
      "Epoch 21/200\n",
      "200/200 [==============================] - 137s 685ms/step - loss: 0.8045 - accuracy: 0.6750 - val_loss: 0.8567 - val_accuracy: 0.7000\n",
      "Epoch 22/200\n",
      "200/200 [==============================] - 136s 682ms/step - loss: 0.7709 - accuracy: 0.6919 - val_loss: 1.0657 - val_accuracy: 0.6667\n",
      "Epoch 23/200\n",
      "200/200 [==============================] - 136s 682ms/step - loss: 0.8014 - accuracy: 0.6831 - val_loss: 1.3432 - val_accuracy: 0.6667\n",
      "Epoch 24/200\n",
      "200/200 [==============================] - 136s 678ms/step - loss: 0.7665 - accuracy: 0.6925 - val_loss: 0.7071 - val_accuracy: 0.7333\n",
      "Epoch 25/200\n",
      "200/200 [==============================] - 141s 704ms/step - loss: 0.7552 - accuracy: 0.7025 - val_loss: 0.7572 - val_accuracy: 0.7333\n",
      "Epoch 26/200\n",
      "200/200 [==============================] - 138s 689ms/step - loss: 0.7386 - accuracy: 0.7044 - val_loss: 0.8832 - val_accuracy: 0.7000\n",
      "Epoch 27/200\n",
      "200/200 [==============================] - 137s 687ms/step - loss: 0.7298 - accuracy: 0.7038 - val_loss: 0.8859 - val_accuracy: 0.7333\n",
      "Epoch 28/200\n",
      "200/200 [==============================] - 138s 690ms/step - loss: 0.7286 - accuracy: 0.7175 - val_loss: 0.5666 - val_accuracy: 0.9000\n",
      "Epoch 29/200\n",
      "200/200 [==============================] - 137s 683ms/step - loss: 0.7256 - accuracy: 0.7031 - val_loss: 0.7026 - val_accuracy: 0.8333\n",
      "Epoch 30/200\n",
      "200/200 [==============================] - 136s 680ms/step - loss: 0.7478 - accuracy: 0.6981 - val_loss: 0.6808 - val_accuracy: 0.8667\n",
      "Epoch 31/200\n",
      "200/200 [==============================] - 138s 688ms/step - loss: 0.7237 - accuracy: 0.7151 - val_loss: 0.8051 - val_accuracy: 0.8000\n",
      "Epoch 32/200\n",
      "200/200 [==============================] - 141s 703ms/step - loss: 0.7326 - accuracy: 0.7050 - val_loss: 0.8773 - val_accuracy: 0.7333\n",
      "Epoch 33/200\n",
      "200/200 [==============================] - 133s 664ms/step - loss: 0.7409 - accuracy: 0.6963 - val_loss: 0.9611 - val_accuracy: 0.7000\n",
      "Epoch 34/200\n",
      "200/200 [==============================] - 131s 654ms/step - loss: 0.7086 - accuracy: 0.7225 - val_loss: 0.6943 - val_accuracy: 0.7667\n",
      "Epoch 35/200\n",
      "200/200 [==============================] - 134s 671ms/step - loss: 0.7318 - accuracy: 0.6982 - val_loss: 1.0208 - val_accuracy: 0.7667\n",
      "Epoch 36/200\n",
      "200/200 [==============================] - 140s 698ms/step - loss: 0.6822 - accuracy: 0.7331 - val_loss: 1.1861 - val_accuracy: 0.7000\n",
      "Epoch 37/200\n",
      "200/200 [==============================] - 139s 694ms/step - loss: 0.7016 - accuracy: 0.7088 - val_loss: 1.0610 - val_accuracy: 0.7000\n",
      "Epoch 38/200\n",
      "200/200 [==============================] - 137s 687ms/step - loss: 0.7172 - accuracy: 0.7262 - val_loss: 0.6647 - val_accuracy: 0.7667\n",
      "Epoch 39/200\n",
      "200/200 [==============================] - 136s 681ms/step - loss: 0.6880 - accuracy: 0.7289 - val_loss: 0.8603 - val_accuracy: 0.7667\n",
      "Epoch 40/200\n",
      "200/200 [==============================] - 154s 771ms/step - loss: 0.7217 - accuracy: 0.7038 - val_loss: 1.4935 - val_accuracy: 0.7333\n",
      "Epoch 41/200\n",
      "200/200 [==============================] - 138s 692ms/step - loss: 0.7060 - accuracy: 0.7175 - val_loss: 0.6616 - val_accuracy: 0.8000\n",
      "Epoch 42/200\n",
      "200/200 [==============================] - 148s 739ms/step - loss: 0.7018 - accuracy: 0.7125 - val_loss: 0.9439 - val_accuracy: 0.8000\n",
      "Epoch 43/200\n",
      "200/200 [==============================] - 145s 725ms/step - loss: 0.7033 - accuracy: 0.7219 - val_loss: 0.6838 - val_accuracy: 0.8333\n",
      "Epoch 44/200\n",
      "200/200 [==============================] - 144s 718ms/step - loss: 0.7187 - accuracy: 0.7126 - val_loss: 0.4906 - val_accuracy: 0.9333\n",
      "Epoch 45/200\n",
      "200/200 [==============================] - 149s 739ms/step - loss: 0.6673 - accuracy: 0.7345 - val_loss: 0.8730 - val_accuracy: 0.8000\n",
      "Epoch 46/200\n",
      "200/200 [==============================] - 142s 709ms/step - loss: 0.6692 - accuracy: 0.7344 - val_loss: 0.7676 - val_accuracy: 0.7667\n",
      "Epoch 47/200\n",
      "200/200 [==============================] - 135s 673ms/step - loss: 0.6987 - accuracy: 0.7169 - val_loss: 1.2462 - val_accuracy: 0.7000\n",
      "Epoch 48/200\n",
      "200/200 [==============================] - 149s 744ms/step - loss: 0.6723 - accuracy: 0.7219 - val_loss: 0.9754 - val_accuracy: 0.8000\n",
      "Epoch 49/200\n",
      "200/200 [==============================] - 135s 674ms/step - loss: 0.7355 - accuracy: 0.6882 - val_loss: 1.0053 - val_accuracy: 0.7000\n",
      "Epoch 50/200\n",
      "200/200 [==============================] - 152s 759ms/step - loss: 0.6613 - accuracy: 0.7351 - val_loss: 0.9658 - val_accuracy: 0.8333\n",
      "Epoch 51/200\n",
      "200/200 [==============================] - 140s 701ms/step - loss: 0.6687 - accuracy: 0.7339 - val_loss: 0.9451 - val_accuracy: 0.8333\n",
      "Epoch 52/200\n",
      "200/200 [==============================] - 131s 654ms/step - loss: 0.6555 - accuracy: 0.7289 - val_loss: 0.7711 - val_accuracy: 0.7667\n",
      "Epoch 53/200\n",
      "200/200 [==============================] - 131s 656ms/step - loss: 0.6507 - accuracy: 0.7375 - val_loss: 0.8490 - val_accuracy: 0.8000\n",
      "Epoch 54/200\n",
      "200/200 [==============================] - 125s 625ms/step - loss: 0.6504 - accuracy: 0.7445 - val_loss: 0.7205 - val_accuracy: 0.8000\n",
      "Epoch 55/200\n",
      "200/200 [==============================] - 187s 936ms/step - loss: 0.6954 - accuracy: 0.7244 - val_loss: 0.7501 - val_accuracy: 0.8000\n",
      "Epoch 56/200\n",
      "200/200 [==============================] - 178s 892ms/step - loss: 0.6825 - accuracy: 0.7370 - val_loss: 0.6978 - val_accuracy: 0.8333\n",
      "Epoch 57/200\n",
      "200/200 [==============================] - 156s 778ms/step - loss: 0.6904 - accuracy: 0.7231 - val_loss: 0.6967 - val_accuracy: 0.8333\n",
      "Epoch 58/200\n",
      "200/200 [==============================] - 159s 796ms/step - loss: 0.6425 - accuracy: 0.7381 - val_loss: 0.9519 - val_accuracy: 0.7333\n",
      "Epoch 59/200\n",
      "200/200 [==============================] - 166s 828ms/step - loss: 0.6342 - accuracy: 0.7520 - val_loss: 0.8950 - val_accuracy: 0.7333\n",
      "Epoch 60/200\n",
      "200/200 [==============================] - 151s 752ms/step - loss: 0.6484 - accuracy: 0.7462 - val_loss: 1.0061 - val_accuracy: 0.8000\n",
      "Epoch 61/200\n",
      "200/200 [==============================] - 148s 738ms/step - loss: 0.7055 - accuracy: 0.7225 - val_loss: 0.6946 - val_accuracy: 0.7667\n",
      "Epoch 62/200\n",
      "200/200 [==============================] - 146s 728ms/step - loss: 0.6558 - accuracy: 0.7281 - val_loss: 0.7144 - val_accuracy: 0.8333\n",
      "Epoch 63/200\n",
      "200/200 [==============================] - 157s 787ms/step - loss: 0.6506 - accuracy: 0.7502 - val_loss: 0.7359 - val_accuracy: 0.8333\n",
      "Epoch 64/200\n",
      "200/200 [==============================] - 175s 874ms/step - loss: 0.6436 - accuracy: 0.7513 - val_loss: 0.7698 - val_accuracy: 0.8000\n",
      "Epoch 65/200\n",
      "200/200 [==============================] - 169s 846ms/step - loss: 0.6396 - accuracy: 0.7477 - val_loss: 0.5876 - val_accuracy: 0.8667\n",
      "Epoch 66/200\n",
      "200/200 [==============================] - 153s 764ms/step - loss: 0.6793 - accuracy: 0.7212 - val_loss: 0.7680 - val_accuracy: 0.8000\n",
      "Epoch 67/200\n",
      "200/200 [==============================] - 152s 759ms/step - loss: 0.6499 - accuracy: 0.7350 - val_loss: 0.7144 - val_accuracy: 0.8333\n",
      "Epoch 68/200\n",
      "200/200 [==============================] - 144s 720ms/step - loss: 0.6285 - accuracy: 0.7425 - val_loss: 0.7523 - val_accuracy: 0.8000\n",
      "Epoch 69/200\n",
      "200/200 [==============================] - 138s 688ms/step - loss: 0.6960 - accuracy: 0.7276 - val_loss: 0.8218 - val_accuracy: 0.7667\n",
      "Epoch 70/200\n",
      "200/200 [==============================] - 139s 693ms/step - loss: 0.6241 - accuracy: 0.7575 - val_loss: 0.7452 - val_accuracy: 0.7667\n",
      "Epoch 71/200\n",
      "200/200 [==============================] - 135s 677ms/step - loss: 0.6537 - accuracy: 0.7425 - val_loss: 0.6940 - val_accuracy: 0.8000\n",
      "Epoch 72/200\n",
      "200/200 [==============================] - 135s 676ms/step - loss: 0.6439 - accuracy: 0.7337 - val_loss: 0.8363 - val_accuracy: 0.8333\n",
      "Epoch 73/200\n",
      "200/200 [==============================] - 137s 685ms/step - loss: 0.6274 - accuracy: 0.7494 - val_loss: 0.5923 - val_accuracy: 0.7667\n",
      "Epoch 74/200\n",
      "200/200 [==============================] - 136s 681ms/step - loss: 0.6673 - accuracy: 0.7387 - val_loss: 0.6941 - val_accuracy: 0.7667\n",
      "Epoch 75/200\n",
      "200/200 [==============================] - 134s 671ms/step - loss: 0.6291 - accuracy: 0.7589 - val_loss: 1.2161 - val_accuracy: 0.6333\n",
      "Epoch 76/200\n",
      "200/200 [==============================] - 171s 856ms/step - loss: 0.6170 - accuracy: 0.7520 - val_loss: 0.8439 - val_accuracy: 0.8000\n",
      "Epoch 77/200\n",
      "200/200 [==============================] - 148s 740ms/step - loss: 0.6486 - accuracy: 0.7375 - val_loss: 0.8824 - val_accuracy: 0.7667\n",
      "Epoch 78/200\n",
      "200/200 [==============================] - 147s 734ms/step - loss: 0.6549 - accuracy: 0.7362 - val_loss: 0.9766 - val_accuracy: 0.7667\n",
      "Epoch 79/200\n",
      "200/200 [==============================] - 151s 753ms/step - loss: 0.6640 - accuracy: 0.7350 - val_loss: 0.8756 - val_accuracy: 0.7667\n",
      "Epoch 80/200\n",
      "200/200 [==============================] - 149s 744ms/step - loss: 0.6386 - accuracy: 0.7531 - val_loss: 1.1602 - val_accuracy: 0.7667\n",
      "Epoch 81/200\n",
      "200/200 [==============================] - 152s 758ms/step - loss: 0.6099 - accuracy: 0.7550 - val_loss: 0.6298 - val_accuracy: 0.8000\n",
      "Epoch 82/200\n",
      "200/200 [==============================] - 152s 759ms/step - loss: 0.6379 - accuracy: 0.7401 - val_loss: 0.7341 - val_accuracy: 0.8000\n",
      "Epoch 83/200\n",
      "200/200 [==============================] - 151s 755ms/step - loss: 0.6569 - accuracy: 0.7420 - val_loss: 0.8681 - val_accuracy: 0.7333\n",
      "Epoch 84/200\n",
      "200/200 [==============================] - 144s 720ms/step - loss: 0.6583 - accuracy: 0.7414 - val_loss: 0.6572 - val_accuracy: 0.7667\n",
      "Epoch 85/200\n",
      "200/200 [==============================] - 139s 695ms/step - loss: 0.6429 - accuracy: 0.7314 - val_loss: 0.5777 - val_accuracy: 0.8000\n",
      "Epoch 86/200\n",
      "200/200 [==============================] - 142s 711ms/step - loss: 0.6654 - accuracy: 0.7400 - val_loss: 0.9030 - val_accuracy: 0.7667\n",
      "Epoch 87/200\n",
      "200/200 [==============================] - 140s 702ms/step - loss: 0.6407 - accuracy: 0.7470 - val_loss: 0.5619 - val_accuracy: 0.7667\n",
      "Epoch 88/200\n",
      "200/200 [==============================] - 139s 693ms/step - loss: 0.6251 - accuracy: 0.7539 - val_loss: 0.7933 - val_accuracy: 0.7667\n",
      "Epoch 89/200\n",
      "200/200 [==============================] - 143s 715ms/step - loss: 0.6518 - accuracy: 0.7325 - val_loss: 0.8102 - val_accuracy: 0.7667\n",
      "Epoch 90/200\n",
      "200/200 [==============================] - 143s 717ms/step - loss: 0.6568 - accuracy: 0.7307 - val_loss: 0.5172 - val_accuracy: 0.8333\n",
      "Epoch 91/200\n",
      "200/200 [==============================] - 174s 868ms/step - loss: 0.6440 - accuracy: 0.7514 - val_loss: 0.5658 - val_accuracy: 0.8333\n",
      "Epoch 92/200\n",
      "200/200 [==============================] - 198s 990ms/step - loss: 0.6635 - accuracy: 0.7451 - val_loss: 0.5674 - val_accuracy: 0.8000\n",
      "Epoch 93/200\n",
      "200/200 [==============================] - 185s 926ms/step - loss: 0.6521 - accuracy: 0.7381 - val_loss: 0.8985 - val_accuracy: 0.7333\n",
      "Epoch 94/200\n",
      "200/200 [==============================] - 177s 884ms/step - loss: 0.6275 - accuracy: 0.7477 - val_loss: 0.8737 - val_accuracy: 0.6667\n",
      "Epoch 95/200\n",
      "200/200 [==============================] - 138s 690ms/step - loss: 0.6323 - accuracy: 0.7513 - val_loss: 0.7399 - val_accuracy: 0.7667\n",
      "Epoch 96/200\n",
      "200/200 [==============================] - 154s 771ms/step - loss: 0.6012 - accuracy: 0.7646 - val_loss: 0.8208 - val_accuracy: 0.7667\n",
      "Epoch 97/200\n",
      "200/200 [==============================] - 144s 718ms/step - loss: 0.5704 - accuracy: 0.7669 - val_loss: 0.9138 - val_accuracy: 0.8000\n",
      "Epoch 98/200\n",
      "200/200 [==============================] - 136s 680ms/step - loss: 0.6197 - accuracy: 0.7356 - val_loss: 0.4559 - val_accuracy: 0.8667\n",
      "Epoch 99/200\n",
      "200/200 [==============================] - 139s 693ms/step - loss: 0.6192 - accuracy: 0.7494 - val_loss: 0.7028 - val_accuracy: 0.8000\n",
      "Epoch 100/200\n",
      "200/200 [==============================] - 121s 605ms/step - loss: 0.6339 - accuracy: 0.7464 - val_loss: 0.9027 - val_accuracy: 0.7667\n",
      "Epoch 101/200\n",
      "200/200 [==============================] - 121s 605ms/step - loss: 0.5980 - accuracy: 0.7577 - val_loss: 1.0201 - val_accuracy: 0.7667\n",
      "Epoch 102/200\n",
      "200/200 [==============================] - 119s 596ms/step - loss: 0.6172 - accuracy: 0.7469 - val_loss: 1.0842 - val_accuracy: 0.7333\n",
      "Epoch 103/200\n",
      "200/200 [==============================] - 120s 598ms/step - loss: 0.6260 - accuracy: 0.7495 - val_loss: 0.7819 - val_accuracy: 0.7667\n",
      "Epoch 104/200\n",
      "200/200 [==============================] - 121s 605ms/step - loss: 0.6167 - accuracy: 0.7462 - val_loss: 0.8929 - val_accuracy: 0.6667\n",
      "Epoch 105/200\n",
      "200/200 [==============================] - 120s 601ms/step - loss: 0.6414 - accuracy: 0.7525 - val_loss: 1.4884 - val_accuracy: 0.6667\n",
      "Epoch 106/200\n",
      "200/200 [==============================] - 121s 605ms/step - loss: 0.5954 - accuracy: 0.7650 - val_loss: 1.2007 - val_accuracy: 0.7000\n",
      "Epoch 107/200\n",
      "200/200 [==============================] - 121s 605ms/step - loss: 0.6400 - accuracy: 0.7487 - val_loss: 0.8504 - val_accuracy: 0.7667\n",
      "Epoch 108/200\n",
      "200/200 [==============================] - 121s 605ms/step - loss: 0.6163 - accuracy: 0.7426 - val_loss: 0.6865 - val_accuracy: 0.7333\n",
      "Epoch 109/200\n",
      "200/200 [==============================] - 120s 602ms/step - loss: 0.6158 - accuracy: 0.7508 - val_loss: 0.7671 - val_accuracy: 0.7667\n",
      "Epoch 110/200\n",
      "200/200 [==============================] - 120s 599ms/step - loss: 0.6374 - accuracy: 0.7475 - val_loss: 0.6702 - val_accuracy: 0.8000\n",
      "Epoch 111/200\n",
      "200/200 [==============================] - 121s 602ms/step - loss: 0.6396 - accuracy: 0.7500 - val_loss: 1.0204 - val_accuracy: 0.6667\n",
      "Epoch 112/200\n",
      "200/200 [==============================] - 120s 599ms/step - loss: 0.6054 - accuracy: 0.7613 - val_loss: 1.0151 - val_accuracy: 0.7667\n",
      "Epoch 113/200\n",
      "200/200 [==============================] - 127s 635ms/step - loss: 0.6540 - accuracy: 0.7412 - val_loss: 0.7177 - val_accuracy: 0.7000\n",
      "Epoch 114/200\n",
      "200/200 [==============================] - 120s 598ms/step - loss: 0.6115 - accuracy: 0.7702 - val_loss: 1.0003 - val_accuracy: 0.7333\n",
      "Epoch 115/200\n",
      "200/200 [==============================] - 119s 595ms/step - loss: 0.6315 - accuracy: 0.7445 - val_loss: 1.3258 - val_accuracy: 0.7000\n",
      "Epoch 116/200\n",
      "200/200 [==============================] - 120s 598ms/step - loss: 0.6422 - accuracy: 0.7527 - val_loss: 0.5252 - val_accuracy: 0.8333\n",
      "Epoch 117/200\n",
      "200/200 [==============================] - 119s 594ms/step - loss: 0.6198 - accuracy: 0.7506 - val_loss: 0.7677 - val_accuracy: 0.7333\n",
      "Epoch 118/200\n",
      "200/200 [==============================] - 120s 598ms/step - loss: 0.6239 - accuracy: 0.7556 - val_loss: 0.6857 - val_accuracy: 0.7333\n",
      "Epoch 119/200\n",
      "200/200 [==============================] - 132s 662ms/step - loss: 0.6107 - accuracy: 0.7564 - val_loss: 0.8990 - val_accuracy: 0.7000\n",
      "Epoch 120/200\n",
      "200/200 [==============================] - 138s 688ms/step - loss: 0.6000 - accuracy: 0.7663 - val_loss: 0.7391 - val_accuracy: 0.6667\n",
      "Epoch 121/200\n",
      "200/200 [==============================] - 136s 680ms/step - loss: 0.6798 - accuracy: 0.7250 - val_loss: 0.6939 - val_accuracy: 0.7667\n",
      "Epoch 122/200\n",
      "200/200 [==============================] - 136s 681ms/step - loss: 0.6207 - accuracy: 0.7558 - val_loss: 0.8237 - val_accuracy: 0.7333\n",
      "Epoch 123/200\n",
      "200/200 [==============================] - 136s 678ms/step - loss: 0.6537 - accuracy: 0.7237 - val_loss: 0.7280 - val_accuracy: 0.7667\n",
      "Epoch 124/200\n",
      "200/200 [==============================] - 137s 683ms/step - loss: 0.6081 - accuracy: 0.7569 - val_loss: 0.7541 - val_accuracy: 0.7333\n",
      "Epoch 125/200\n",
      "200/200 [==============================] - 138s 688ms/step - loss: 0.6095 - accuracy: 0.7544 - val_loss: 0.8417 - val_accuracy: 0.7333\n",
      "Epoch 126/200\n",
      "200/200 [==============================] - 138s 690ms/step - loss: 0.5865 - accuracy: 0.7713 - val_loss: 0.5097 - val_accuracy: 0.7000\n",
      "Epoch 127/200\n",
      "200/200 [==============================] - 142s 707ms/step - loss: 0.6472 - accuracy: 0.7437 - val_loss: 0.9297 - val_accuracy: 0.7000\n",
      "Epoch 128/200\n",
      "200/200 [==============================] - 143s 717ms/step - loss: 0.5750 - accuracy: 0.7731 - val_loss: 0.7009 - val_accuracy: 0.7667\n",
      "Epoch 129/200\n",
      "200/200 [==============================] - 149s 743ms/step - loss: 0.5875 - accuracy: 0.7646 - val_loss: 0.4900 - val_accuracy: 0.8333\n",
      "Epoch 130/200\n",
      "200/200 [==============================] - 149s 746ms/step - loss: 0.6123 - accuracy: 0.7419 - val_loss: 0.4949 - val_accuracy: 0.8333\n",
      "Epoch 131/200\n",
      "200/200 [==============================] - 151s 755ms/step - loss: 0.6275 - accuracy: 0.7631 - val_loss: 0.9063 - val_accuracy: 0.7667\n",
      "Epoch 132/200\n",
      "200/200 [==============================] - 150s 749ms/step - loss: 0.6314 - accuracy: 0.7527 - val_loss: 0.7512 - val_accuracy: 0.7333\n",
      "Epoch 133/200\n",
      "200/200 [==============================] - 149s 743ms/step - loss: 0.6243 - accuracy: 0.7500 - val_loss: 0.6205 - val_accuracy: 0.8000\n",
      "Epoch 134/200\n",
      "200/200 [==============================] - 162s 812ms/step - loss: 0.6314 - accuracy: 0.7606 - val_loss: 0.6239 - val_accuracy: 0.8667\n",
      "Epoch 135/200\n",
      "200/200 [==============================] - 156s 780ms/step - loss: 0.5762 - accuracy: 0.7783 - val_loss: 0.8903 - val_accuracy: 0.7667\n",
      "Epoch 136/200\n",
      "200/200 [==============================] - 155s 776ms/step - loss: 0.5889 - accuracy: 0.7613 - val_loss: 0.6857 - val_accuracy: 0.8000\n",
      "Epoch 137/200\n",
      "200/200 [==============================] - 144s 720ms/step - loss: 0.6285 - accuracy: 0.7570 - val_loss: 1.0155 - val_accuracy: 0.7667\n",
      "Epoch 138/200\n",
      "200/200 [==============================] - 144s 717ms/step - loss: 0.6130 - accuracy: 0.7552 - val_loss: 0.9104 - val_accuracy: 0.7667\n",
      "Epoch 139/200\n",
      "200/200 [==============================] - 143s 716ms/step - loss: 0.6092 - accuracy: 0.7638 - val_loss: 0.6988 - val_accuracy: 0.7333\n",
      "Epoch 140/200\n",
      "200/200 [==============================] - 143s 714ms/step - loss: 0.6128 - accuracy: 0.7513 - val_loss: 1.0263 - val_accuracy: 0.7333\n",
      "Epoch 141/200\n",
      "200/200 [==============================] - 143s 714ms/step - loss: 0.6309 - accuracy: 0.7581 - val_loss: 1.0850 - val_accuracy: 0.7667\n",
      "Epoch 142/200\n",
      "200/200 [==============================] - 143s 715ms/step - loss: 0.6567 - accuracy: 0.7420 - val_loss: 0.8840 - val_accuracy: 0.7667\n",
      "Epoch 143/200\n",
      "200/200 [==============================] - 146s 728ms/step - loss: 0.5946 - accuracy: 0.7681 - val_loss: 1.0207 - val_accuracy: 0.8000\n",
      "Epoch 144/200\n",
      "200/200 [==============================] - 154s 769ms/step - loss: 0.6096 - accuracy: 0.7495 - val_loss: 1.0024 - val_accuracy: 0.7333\n",
      "Epoch 145/200\n",
      "200/200 [==============================] - 149s 747ms/step - loss: 0.5900 - accuracy: 0.7740 - val_loss: 0.8458 - val_accuracy: 0.7667\n",
      "Epoch 146/200\n",
      "200/200 [==============================] - 145s 726ms/step - loss: 0.5683 - accuracy: 0.7788 - val_loss: 0.3947 - val_accuracy: 0.9000\n",
      "Epoch 147/200\n",
      "200/200 [==============================] - 145s 726ms/step - loss: 0.5976 - accuracy: 0.7600 - val_loss: 0.9251 - val_accuracy: 0.7667\n",
      "Epoch 148/200\n",
      "200/200 [==============================] - 145s 724ms/step - loss: 0.6317 - accuracy: 0.7538 - val_loss: 0.5655 - val_accuracy: 0.7333\n",
      "Epoch 149/200\n",
      "200/200 [==============================] - 144s 721ms/step - loss: 0.5925 - accuracy: 0.7621 - val_loss: 0.6802 - val_accuracy: 0.8000\n",
      "Epoch 150/200\n",
      "200/200 [==============================] - 145s 726ms/step - loss: 0.5995 - accuracy: 0.7600 - val_loss: 0.7985 - val_accuracy: 0.7000\n",
      "Epoch 151/200\n",
      "200/200 [==============================] - 146s 728ms/step - loss: 0.6010 - accuracy: 0.7664 - val_loss: 0.6523 - val_accuracy: 0.7333\n",
      "Epoch 152/200\n",
      "200/200 [==============================] - 149s 745ms/step - loss: 0.5931 - accuracy: 0.7614 - val_loss: 0.7468 - val_accuracy: 0.7667\n",
      "Epoch 153/200\n",
      "200/200 [==============================] - 146s 728ms/step - loss: 0.6302 - accuracy: 0.7376 - val_loss: 1.1202 - val_accuracy: 0.6000\n",
      "Epoch 154/200\n",
      "200/200 [==============================] - 146s 730ms/step - loss: 0.6155 - accuracy: 0.7688 - val_loss: 0.7910 - val_accuracy: 0.7667\n",
      "Epoch 155/200\n",
      "200/200 [==============================] - 143s 716ms/step - loss: 0.5707 - accuracy: 0.7721 - val_loss: 0.9112 - val_accuracy: 0.7667\n",
      "Epoch 156/200\n",
      "200/200 [==============================] - 146s 729ms/step - loss: 0.6140 - accuracy: 0.7594 - val_loss: 0.9365 - val_accuracy: 0.7000\n",
      "Epoch 157/200\n",
      "200/200 [==============================] - 147s 734ms/step - loss: 0.6231 - accuracy: 0.7425 - val_loss: 0.7137 - val_accuracy: 0.7667\n",
      "Epoch 158/200\n",
      "200/200 [==============================] - 144s 717ms/step - loss: 0.6140 - accuracy: 0.7508 - val_loss: 0.9008 - val_accuracy: 0.7333\n",
      "Epoch 159/200\n",
      "200/200 [==============================] - 139s 694ms/step - loss: 0.5736 - accuracy: 0.7688 - val_loss: 1.1427 - val_accuracy: 0.7333\n",
      "Epoch 160/200\n",
      "200/200 [==============================] - 139s 693ms/step - loss: 0.6141 - accuracy: 0.7577 - val_loss: 0.6881 - val_accuracy: 0.7667\n",
      "Epoch 161/200\n",
      "200/200 [==============================] - 138s 689ms/step - loss: 0.5816 - accuracy: 0.7740 - val_loss: 0.4998 - val_accuracy: 0.8000\n",
      "Epoch 162/200\n",
      "200/200 [==============================] - 138s 690ms/step - loss: 0.6375 - accuracy: 0.7406 - val_loss: 0.7525 - val_accuracy: 0.7333\n",
      "Epoch 163/200\n",
      "200/200 [==============================] - 140s 698ms/step - loss: 0.5868 - accuracy: 0.7538 - val_loss: 0.8386 - val_accuracy: 0.7667\n",
      "Epoch 164/200\n",
      "200/200 [==============================] - 138s 691ms/step - loss: 0.5959 - accuracy: 0.7639 - val_loss: 0.6201 - val_accuracy: 0.7333\n",
      "Epoch 165/200\n",
      "200/200 [==============================] - 138s 688ms/step - loss: 0.6017 - accuracy: 0.7602 - val_loss: 0.6744 - val_accuracy: 0.7667\n",
      "Epoch 166/200\n",
      "200/200 [==============================] - 137s 687ms/step - loss: 0.6057 - accuracy: 0.7740 - val_loss: 0.6216 - val_accuracy: 0.8000\n",
      "Epoch 167/200\n",
      "200/200 [==============================] - 138s 688ms/step - loss: 0.5859 - accuracy: 0.7577 - val_loss: 0.6410 - val_accuracy: 0.7000\n",
      "Epoch 168/200\n",
      "200/200 [==============================] - 138s 689ms/step - loss: 0.5811 - accuracy: 0.7708 - val_loss: 0.8614 - val_accuracy: 0.7000\n",
      "Epoch 169/200\n",
      "200/200 [==============================] - 139s 694ms/step - loss: 0.5923 - accuracy: 0.7646 - val_loss: 0.6366 - val_accuracy: 0.7667\n",
      "Epoch 170/200\n",
      "200/200 [==============================] - 139s 694ms/step - loss: 0.6003 - accuracy: 0.7644 - val_loss: 0.5175 - val_accuracy: 0.8333\n",
      "Epoch 171/200\n",
      "200/200 [==============================] - 138s 692ms/step - loss: 0.6015 - accuracy: 0.7631 - val_loss: 0.6285 - val_accuracy: 0.8667\n",
      "Epoch 172/200\n",
      "200/200 [==============================] - 139s 695ms/step - loss: 0.6026 - accuracy: 0.7650 - val_loss: 1.0015 - val_accuracy: 0.7667\n",
      "Epoch 173/200\n",
      "200/200 [==============================] - 145s 724ms/step - loss: 0.5855 - accuracy: 0.7677 - val_loss: 0.4902 - val_accuracy: 0.8667\n",
      "Epoch 174/200\n",
      "200/200 [==============================] - 139s 693ms/step - loss: 0.5530 - accuracy: 0.7700 - val_loss: 0.5993 - val_accuracy: 0.8667\n",
      "Epoch 175/200\n",
      "200/200 [==============================] - 139s 693ms/step - loss: 0.5821 - accuracy: 0.7663 - val_loss: 0.9331 - val_accuracy: 0.6667\n",
      "Epoch 176/200\n",
      "200/200 [==============================] - 139s 693ms/step - loss: 0.6170 - accuracy: 0.7621 - val_loss: 0.8523 - val_accuracy: 0.7667\n",
      "Epoch 177/200\n",
      "200/200 [==============================] - 139s 695ms/step - loss: 0.5777 - accuracy: 0.7650 - val_loss: 0.8206 - val_accuracy: 0.7333\n",
      "Epoch 178/200\n",
      "200/200 [==============================] - 139s 696ms/step - loss: 0.5995 - accuracy: 0.7606 - val_loss: 0.8321 - val_accuracy: 0.7667\n",
      "Epoch 179/200\n",
      "200/200 [==============================] - 138s 691ms/step - loss: 0.6102 - accuracy: 0.7588 - val_loss: 0.5459 - val_accuracy: 0.7667\n",
      "Epoch 180/200\n",
      "200/200 [==============================] - 138s 688ms/step - loss: 0.5825 - accuracy: 0.7656 - val_loss: 0.9183 - val_accuracy: 0.7667\n",
      "Epoch 181/200\n",
      "200/200 [==============================] - 138s 689ms/step - loss: 0.5978 - accuracy: 0.7619 - val_loss: 1.0438 - val_accuracy: 0.7333\n",
      "Epoch 182/200\n",
      "200/200 [==============================] - 138s 692ms/step - loss: 0.5811 - accuracy: 0.7806 - val_loss: 0.6307 - val_accuracy: 0.7667\n",
      "Epoch 183/200\n",
      "200/200 [==============================] - 138s 688ms/step - loss: 0.6129 - accuracy: 0.7613 - val_loss: 0.9199 - val_accuracy: 0.7000\n",
      "Epoch 184/200\n",
      "200/200 [==============================] - 138s 687ms/step - loss: 0.6182 - accuracy: 0.7583 - val_loss: 0.6192 - val_accuracy: 0.7333\n",
      "Epoch 185/200\n",
      "200/200 [==============================] - 139s 696ms/step - loss: 0.5741 - accuracy: 0.7750 - val_loss: 0.9105 - val_accuracy: 0.7667\n",
      "Epoch 186/200\n",
      "200/200 [==============================] - 139s 693ms/step - loss: 0.6239 - accuracy: 0.7558 - val_loss: 0.8329 - val_accuracy: 0.7333\n",
      "Epoch 187/200\n",
      "200/200 [==============================] - 138s 692ms/step - loss: 0.6139 - accuracy: 0.7525 - val_loss: 0.6851 - val_accuracy: 0.7667\n",
      "Epoch 188/200\n",
      "200/200 [==============================] - 139s 694ms/step - loss: 0.5711 - accuracy: 0.7714 - val_loss: 0.9175 - val_accuracy: 0.7667\n",
      "Epoch 189/200\n",
      "200/200 [==============================] - 139s 694ms/step - loss: 0.6069 - accuracy: 0.7533 - val_loss: 0.9193 - val_accuracy: 0.7667\n",
      "Epoch 190/200\n",
      "200/200 [==============================] - 138s 691ms/step - loss: 0.5967 - accuracy: 0.7675 - val_loss: 0.7494 - val_accuracy: 0.7333\n",
      "Epoch 191/200\n",
      "200/200 [==============================] - 138s 689ms/step - loss: 0.5600 - accuracy: 0.7800 - val_loss: 0.7694 - val_accuracy: 0.7667\n",
      "Epoch 192/200\n",
      "200/200 [==============================] - 138s 691ms/step - loss: 0.5991 - accuracy: 0.7633 - val_loss: 0.8953 - val_accuracy: 0.7333\n",
      "Epoch 193/200\n",
      "200/200 [==============================] - 138s 690ms/step - loss: 0.5463 - accuracy: 0.7850 - val_loss: 1.0134 - val_accuracy: 0.7333\n",
      "Epoch 194/200\n",
      "200/200 [==============================] - 140s 698ms/step - loss: 0.5911 - accuracy: 0.7564 - val_loss: 0.8381 - val_accuracy: 0.7333\n",
      "Epoch 195/200\n",
      "200/200 [==============================] - 140s 697ms/step - loss: 0.6067 - accuracy: 0.7588 - val_loss: 0.7547 - val_accuracy: 0.7667\n",
      "Epoch 196/200\n",
      "200/200 [==============================] - 139s 694ms/step - loss: 0.5562 - accuracy: 0.7763 - val_loss: 0.8864 - val_accuracy: 0.7667\n",
      "Epoch 197/200\n",
      "200/200 [==============================] - 139s 696ms/step - loss: 0.5787 - accuracy: 0.7588 - val_loss: 0.7288 - val_accuracy: 0.7667\n",
      "Epoch 198/200\n",
      "200/200 [==============================] - 139s 694ms/step - loss: 0.5610 - accuracy: 0.7725 - val_loss: 0.8011 - val_accuracy: 0.7333\n",
      "Epoch 199/200\n",
      "200/200 [==============================] - 139s 695ms/step - loss: 0.5845 - accuracy: 0.7702 - val_loss: 0.6920 - val_accuracy: 0.7333\n",
      "Epoch 200/200\n",
      "200/200 [==============================] - 139s 696ms/step - loss: 0.6016 - accuracy: 0.7681 - val_loss: 0.9993 - val_accuracy: 0.7667\n"
     ]
    },
    {
     "data": {
      "text/plain": [
       "<keras.callbacks.History at 0x1b32d64fd10>"
      ]
     },
     "execution_count": 15,
     "metadata": {},
     "output_type": "execute_result"
    }
   ],
   "source": [
    "model.fit(train_generator,batch_size=8,validation_data=test_generator,epochs=200,steps_per_epoch=200)"
   ]
  },
  {
   "cell_type": "code",
   "execution_count": 16,
   "metadata": {},
   "outputs": [
    {
     "name": "stdout",
     "output_type": "stream",
     "text": [
      "501/501 [==============================] - 315s 628ms/step - loss: 0.5653 - accuracy: 0.7810\n"
     ]
    },
    {
     "data": {
      "text/plain": [
       "[0.5652828216552734, 0.7810237407684326]"
      ]
     },
     "execution_count": 16,
     "metadata": {},
     "output_type": "execute_result"
    }
   ],
   "source": [
    "model.evaluate(train_generator)"
   ]
  },
  {
   "cell_type": "code",
   "execution_count": 17,
   "metadata": {},
   "outputs": [
    {
     "name": "stdout",
     "output_type": "stream",
     "text": [
      "4/4 [==============================] - 3s 628ms/step - loss: 0.9993 - accuracy: 0.7667\n"
     ]
    },
    {
     "data": {
      "text/plain": [
       "[0.9992519617080688, 0.7666666507720947]"
      ]
     },
     "execution_count": 17,
     "metadata": {},
     "output_type": "execute_result"
    }
   ],
   "source": [
    "model.evaluate(test_generator)"
   ]
  },
  {
   "cell_type": "code",
   "execution_count": 18,
   "metadata": {},
   "outputs": [],
   "source": [
    "model.save('model_Using_Transfer_Learning.h5')"
   ]
  },
  {
   "cell_type": "code",
   "execution_count": null,
   "metadata": {},
   "outputs": [],
   "source": []
  }
 ],
 "metadata": {
  "kernelspec": {
   "display_name": "Python 3",
   "language": "python",
   "name": "python3"
  },
  "language_info": {
   "codemirror_mode": {
    "name": "ipython",
    "version": 3
   },
   "file_extension": ".py",
   "mimetype": "text/x-python",
   "name": "python",
   "nbconvert_exporter": "python",
   "pygments_lexer": "ipython3",
   "version": "3.11.1"
  },
  "orig_nbformat": 4
 },
 "nbformat": 4,
 "nbformat_minor": 2
}
